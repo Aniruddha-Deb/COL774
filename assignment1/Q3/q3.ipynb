{
 "cells": [
  {
   "cell_type": "code",
   "execution_count": 2,
   "id": "bf2eb139",
   "metadata": {},
   "outputs": [
    {
     "name": "stderr",
     "output_type": "stream",
     "text": [
      "/Users/Sensei/.pyenv/versions/3.9.0/lib/python3.9/site-packages/pandas/compat/__init__.py:97: UserWarning: Could not import the lzma module. Your installed Python is incomplete. Attempting to use lzma compression will result in a RuntimeError.\n",
      "  warnings.warn(msg)\n"
     ]
    }
   ],
   "source": [
    "import numpy as np\n",
    "import matplotlib.pyplot as plt\n",
    "from matplotlib.colors import ListedColormap\n",
    "import sys"
   ]
  },
  {
   "cell_type": "code",
   "execution_count": 3,
   "id": "6b3a8263",
   "metadata": {},
   "outputs": [],
   "source": [
    "#########################################\n",
    "# part (a)\n",
    "#########################################\n",
    "\n",
    "def normalize(a):\n",
    "    return (a-a.mean(axis=0))/a.std()\n",
    "\n",
    "def sigmoid(a):\n",
    "    return 1/(1+np.exp(-a))\n",
    "\n",
    "def H_LL(X,theta):\n",
    "    return -(X.T@X)*(sigmoid(X@theta)*(1-sigmoid(X@theta))).sum()\n",
    "\n",
    "def grad_LL(X,Y,theta):\n",
    "    return X.T@(Y-sigmoid(X@theta))\n",
    "\n",
    "# note we have to maximize LL -> minimize NLL\n",
    "# but this doesn't matter in Newton: will find roots of first derivative anyway\n",
    "def newton_iteration(X,Y,theta):\n",
    "    return theta - np.linalg.inv(H_LL(X,theta))@grad_LL(X,Y,theta)\n",
    "\n",
    "def newton_optimize(X,Y,theta,n_iter=1000):\n",
    "    \n",
    "    for i in range(n_iter):\n",
    "        theta = newton_iteration(X,Y,theta)\n",
    "        \n",
    "    return theta\n",
    "\n",
    "# TODO make a class that would learn and fit parameters!"
   ]
  },
  {
   "cell_type": "code",
   "execution_count": 4,
   "id": "014e83d8",
   "metadata": {},
   "outputs": [],
   "source": [
    "#########################################\n",
    "# part (b)\n",
    "#########################################\n",
    "\n",
    "def plot_data(X,Y,theta,save_file_name=None):\n",
    "    X_x, X_y = X.T\n",
    "    slope, intercept = -theta[1][0]/theta[2][0], -theta[0][0]/theta[2][0], \n",
    "    color = np.where(Y == 1, 'red', 'green').squeeze()\n",
    "    s = plt.scatter(X_x,X_y,c=Y.squeeze(),cmap=ListedColormap(['red','green']))\n",
    "    plt.axline((0,intercept), slope=slope, color='b', label='Boundary')\n",
    "    \n",
    "    plt.title('Scatter plot of Datapoints and Decision Boundary')\n",
    "    plt.xlabel('x_0 (normalized)')\n",
    "    plt.ylabel('x_1 (normalized)')\n",
    "    labels = ['0','1']\n",
    "    plt.legend(handles=s.legend_elements()[0], labels=labels)\n",
    "    \n",
    "    if save_file_name:\n",
    "        plt.savefig(save_file_name, dpi=150, bbox_inches='tight')"
   ]
  },
  {
   "cell_type": "code",
   "execution_count": 5,
   "id": "94f1fd10",
   "metadata": {},
   "outputs": [],
   "source": [
    "class LogisticRegressor:\n",
    "    \n",
    "    def __init__(self,theta=np.array([[0],[0],[0]])):\n",
    "        self.theta = theta\n",
    "        \n",
    "    def fit(self,X,Y,**kwargs):\n",
    "        self.theta = newton_optimize(X,Y,self.theta)\n",
    "        \n",
    "    def predict(self,X):\n",
    "        Y = sigmoid(X@self.theta)\n",
    "        return np.where(Y>0.5,1,0).flatten()"
   ]
  },
  {
   "cell_type": "code",
   "execution_count": 6,
   "id": "4a104ffd",
   "metadata": {},
   "outputs": [],
   "source": [
    "if __name__ == \"__main__\" and \"__file__\" in globals():\n",
    "    if len(sys.argv) < 3:\n",
    "        print(\"ERROR: this script requires a train and test directory. Exiting.\")\n",
    "    \n",
    "    train_dir, test_dir = sys.argv[1],sys.argv[2]\n",
    "    trainX = normalize(np.loadtxt(f\"{train_dir}/X.csv\", delimiter=','))\n",
    "    trainY = np.loadtxt(f\"{train_dir}/Y.csv\").reshape(-1,1)\n",
    "    testX = normalize(np.loadtxt(f\"{test_dir}/X.csv\", delimiter=','))\n",
    "    \n",
    "    trainX = np.column_stack([np.full(len(trainX),1),trainX])\n",
    "    testX = np.column_stack([np.full(len(testX),1),testX])\n",
    "    \n",
    "    regressor = LogisticRegressor()\n",
    "    regressor.fit(trainX,trainY)\n",
    "    preds = regressor.predict(testX)\n",
    "    np.savetxt(\"result_3.txt\",preds)"
   ]
  },
  {
   "cell_type": "code",
   "execution_count": 9,
   "id": "69cedc60",
   "metadata": {},
   "outputs": [],
   "source": [
    "# [StopConvert]"
   ]
  },
  {
   "cell_type": "code",
   "execution_count": 7,
   "id": "5251ff34",
   "metadata": {},
   "outputs": [],
   "source": [
    "import pandas as pd\n",
    "\n",
    "trainX = pd.read_csv('../data/q3/X.csv',header=None).to_numpy()\n",
    "trainY = pd.read_csv('../data/q3/Y.csv',header=None).to_numpy()\n",
    "normX = normalize(trainX)\n",
    "\n",
    "X = np.column_stack([np.full(len(normX),1),normX])\n",
    "Y = trainY.reshape(-1,1)"
   ]
  },
  {
   "cell_type": "code",
   "execution_count": 11,
   "id": "85b0ed29",
   "metadata": {},
   "outputs": [],
   "source": [
    "theta_opt = newton_optimize(X,Y,theta=np.array([[0],[0],[0]]))"
   ]
  },
  {
   "cell_type": "code",
   "execution_count": 12,
   "id": "c7ce2127",
   "metadata": {},
   "outputs": [
    {
     "data": {
      "text/plain": [
       "array([[ 0.26741615],\n",
       "       [ 2.2504318 ],\n",
       "       [-2.23473995]])"
      ]
     },
     "execution_count": 12,
     "metadata": {},
     "output_type": "execute_result"
    }
   ],
   "source": [
    "theta_opt"
   ]
  },
  {
   "cell_type": "code",
   "execution_count": 13,
   "id": "c63b41de",
   "metadata": {},
   "outputs": [
    {
     "data": {
      "image/png": "[encoded data removed]",
      "text/plain": [
       "<Figure size 432x288 with 1 Axes>"
      ]
     },
     "metadata": {
      "needs_background": "light"
     },
     "output_type": "display_data"
    }
   ],
   "source": [
    "plot_data(normX,Y,theta_opt,save_file_name='plots/b_scatter.png')"
   ]
  },
  {
   "cell_type": "code",
   "execution_count": null,
   "id": "0595b442",
   "metadata": {},
   "outputs": [],
   "source": []
  }
 ],
 "metadata": {
  "kernelspec": {
   "display_name": "Python 3",
   "language": "python",
   "name": "python3"
  },
  "language_info": {
   "codemirror_mode": {
    "name": "ipython",
    "version": 3
   },
   "file_extension": ".py",
   "mimetype": "text/x-python",
   "name": "python",
   "nbconvert_exporter": "python",
   "pygments_lexer": "ipython3",
   "version": "3.9.0"
  }
 },
 "nbformat": 4,
 "nbformat_minor": 5
}
