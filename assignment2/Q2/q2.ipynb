{
 "cells": [
  {
   "cell_type": "code",
   "execution_count": 49,
   "id": "6d1e4abb-6aad-41cf-b0cc-b18c32617733",
   "metadata": {},
   "outputs": [],
   "source": [
    "import numpy as np\n",
    "import pandas as pd\n",
    "from cvxopt import matrix, solvers\n",
    "import pickle"
   ]
  },
  {
   "cell_type": "code",
   "execution_count": 73,
   "id": "7c906852-fc81-48f2-9355-b38f10d0a159",
   "metadata": {},
   "outputs": [],
   "source": [
    "def create_gaussian_kernel(gamma=0.001):\n",
    "    def kernel(x, z):\n",
    "        xx = (x**2).sum(axis=1).reshape(-1,1)@np.ones((1,z.shape[0]))\n",
    "        zz = (z**2).sum(axis=1).reshape(-1,1)@np.ones((1,x.shape[0]))\n",
    "        return np.exp(-gamma*(xx + zz.T - 2*x@z.T))\n",
    "    \n",
    "    return kernel\n",
    "\n",
    "def linear_kernel(x, z):\n",
    "    return x@z.T\n",
    "      \n",
    "class SoftKernelSVM_QP:\n",
    "    \n",
    "    def __init__(self, kernel, C=1):\n",
    "        self.C = C\n",
    "        self.kernel = kernel\n",
    "        \n",
    "    def learn(self, X, y, thresh=1e-6):\n",
    "        alphas = np.array(self.sol['x'])\n",
    "        self.sv_idxs = (alphas > thresh).flatten()\n",
    "        print(f\"Got {np.count_nonzero(sv_idxs)} support vectors\")\n",
    "        self.sv = X[self.sv_idxs]\n",
    "        self.sv_y = y[self.sv_idxs]\n",
    "        self.alphas = alphas[self.sv_idxs]\n",
    "        \n",
    "        if (self.kernel == linear_kernel):\n",
    "            self.w = self.sv.T @ (self.alphas * self.sv_y)\n",
    "        \n",
    "        self.b = self.sv_y - np.sum(self.kernel(self.sv,self.sv) * self.alphas * self.sv_y, axis=0)\n",
    "        self.b = np.mean(self.b)\n",
    "    \n",
    "   # X, y need to be numpy arrays\n",
    "    def fit(self, X, y):\n",
    "        m, n = X.shape\n",
    "        p_np = (y @ y.T) * self.kernel(X,X)\n",
    "        P = matrix(p_np, tc='d') # half not required\n",
    "        q = matrix(-np.ones((m, 1)), tc='d')\n",
    "        A = matrix(y.T, tc='d')\n",
    "        b = matrix(np.zeros(1), tc='d')\n",
    "        G = matrix(np.vstack([-np.eye(m), np.eye(m)]), tc='d')\n",
    "        h = matrix(np.hstack([np.zeros(m), self.C*np.ones(m)]).reshape(-1,1), tc='d')\n",
    "        \n",
    "        self.sol = solvers.qp(P, q, G, h, A, b)\n",
    "\n",
    "    def predict(self, X):\n",
    "        prod = np.sum(self.kernel(self.sv,X) * self.alphas * self.sv_y, axis=0) + self.b\n",
    "        return np.sign(prod).astype(np.double)\n"
   ]
  },
  {
   "cell_type": "code",
   "execution_count": 74,
   "id": "f4a674fe-dc07-4a0c-94dc-8847ada08f37",
   "metadata": {},
   "outputs": [],
   "source": [
    "def load_data(dir, type, digit):\n",
    "    data_file = open(f'{dir}/{type}.pickle', 'rb')\n",
    "    data = pickle.load(data_file)\n",
    "    data_file.close()\n",
    "\n",
    "    s = data['data'].shape\n",
    "    data['data'] = data['data'].reshape(s[0], np.product(s[1:]))\n",
    "\n",
    "    data_idx = ((data['labels'] == (digit%5)) | (data['labels'] == ((digit+1)%5))).flatten()\n",
    "    data['data'] = data['data'][data_idx,:]\n",
    "    data['labels'] = data['labels'][data_idx]\n",
    "    data['labels'] = np.where(data['labels'] == (digit%5), 1, -1)\n",
    "    \n",
    "    data['data'] = data['data'].astype(np.double)\n",
    "    data['labels'] = data['labels'].astype(np.double)\n",
    "    \n",
    "    data['data'] = np.interp(data['data'], (0,255), (0,1))\n",
    "    \n",
    "    return data"
   ]
  },
  {
   "cell_type": "code",
   "execution_count": 52,
   "id": "bd10498b-9991-464a-b600-18652c4a991f",
   "metadata": {},
   "outputs": [],
   "source": [
    "def normalize(dataset):\n",
    "    new_dataset = {\n",
    "        'labels': dataset['labels']\n",
    "    }\n",
    "    return new_dataset"
   ]
  },
  {
   "cell_type": "markdown",
   "id": "17609bf0-5bed-4ab0-bec1-fd68119483c2",
   "metadata": {},
   "source": [
    "## Testing"
   ]
  },
  {
   "cell_type": "code",
   "execution_count": 75,
   "id": "7e86aadb-7ddf-49e2-8ec4-20332c587e5c",
   "metadata": {},
   "outputs": [],
   "source": [
    "dpath = '../data/part2_data'\n",
    "train_data = load_data(dpath, 'train_data', 9)\n",
    "test_data = load_data(dpath, 'test_data', 9)\n"
   ]
  },
  {
   "cell_type": "code",
   "execution_count": 76,
   "id": "64a18b5c-5bde-4585-a465-6b4bb5991bfb",
   "metadata": {},
   "outputs": [
    {
     "name": "stdout",
     "output_type": "stream",
     "text": [
      "     pcost       dcost       gap    pres   dres\n",
      " 0: -1.1712e+03 -1.0053e+04  5e+04  3e+00  5e-10\n",
      " 1: -8.2018e+02 -7.0364e+03  1e+04  6e-01  5e-10\n",
      " 2: -6.5638e+02 -3.7165e+03  5e+03  2e-01  5e-10\n",
      " 3: -5.8967e+02 -1.3383e+03  9e+02  2e-02  4e-10\n",
      " 4: -6.5370e+02 -9.3520e+02  3e+02  6e-03  4e-10\n",
      " 5: -6.9062e+02 -8.0961e+02  1e+02  2e-03  4e-10\n",
      " 6: -7.1076e+02 -7.5125e+02  4e+01  3e-04  5e-10\n",
      " 7: -7.1909e+02 -7.3061e+02  1e+01  7e-05  5e-10\n",
      " 8: -7.2208e+02 -7.2387e+02  2e+00  7e-06  5e-10\n",
      " 9: -7.2264e+02 -7.2274e+02  1e-01  3e-07  5e-10\n",
      "10: -7.2267e+02 -7.2268e+02  6e-03  2e-08  5e-10\n",
      "11: -7.2268e+02 -7.2268e+02  1e-04  3e-10  5e-10\n",
      "Optimal solution found.\n"
     ]
    }
   ],
   "source": [
    "model = SoftKernelSVM_QP(linear_kernel)\n",
    "model.fit(train_data['data'], train_data['labels'])"
   ]
  },
  {
   "cell_type": "code",
   "execution_count": 77,
   "id": "10dccb16-048e-491d-9f8e-c0caf1a83706",
   "metadata": {},
   "outputs": [
    {
     "name": "stdout",
     "output_type": "stream",
     "text": [
      "Got 1528 support vectors\n"
     ]
    }
   ],
   "source": [
    "model.learn(train_data['data'], train_data['labels'])"
   ]
  },
  {
   "cell_type": "code",
   "execution_count": 56,
   "id": "dd7b9ad7-c5ed-4548-b831-91b62d078e93",
   "metadata": {},
   "outputs": [
    {
     "data": {
      "text/plain": [
       "array([[0.15641384],\n",
       "       [0.99999999],\n",
       "       [0.99999999],\n",
       "       ...,\n",
       "       [0.07483896],\n",
       "       [0.77099704],\n",
       "       [0.50749853]])"
      ]
     },
     "execution_count": 56,
     "metadata": {},
     "output_type": "execute_result"
    }
   ],
   "source": [
    "model.alphas"
   ]
  },
  {
   "cell_type": "code",
   "execution_count": 59,
   "id": "5164f7c4-4488-4ba5-9b65-b200687fab39",
   "metadata": {},
   "outputs": [],
   "source": [
    "preds = model.predict(test_data['data'])"
   ]
  },
  {
   "cell_type": "code",
   "execution_count": 60,
   "id": "ae9efcdf-24c8-4318-b469-ffeb25f14d3e",
   "metadata": {},
   "outputs": [
    {
     "name": "stdout",
     "output_type": "stream",
     "text": [
      "Accuracy: 1580/2000 = 0.79\n"
     ]
    }
   ],
   "source": [
    "count = np.count_nonzero(preds == test_data['labels'].flatten())\n",
    "acc = count/test_data['labels'].size\n",
    "print(f\"Accuracy: {count}/{test_data['labels'].size} = {acc}\")"
   ]
  },
  {
   "cell_type": "markdown",
   "id": "76ccadf3-2d9a-42c2-b117-4c972e6d0e5f",
   "metadata": {},
   "source": [
    "Linear:\n",
    " * Accuracy: 1580/2000\n",
    " * SV's: 1528\n",
    " * "
   ]
  },
  {
   "cell_type": "markdown",
   "id": "cfe7e070-29b6-497a-868d-cd5403d74055",
   "metadata": {},
   "source": [
    "## Scikit-Learn"
   ]
  },
  {
   "cell_type": "code",
   "execution_count": 65,
   "id": "3aed40ef-5aed-44ef-9e69-e88b0c5aa187",
   "metadata": {},
   "outputs": [],
   "source": [
    "from sklearn import svm\n",
    "clf = svm.SVC()\n",
    "clf.fit(train_data['data'], train_data['labels'].flatten())\n",
    "preds = clf.predict(test_data['data'])"
   ]
  },
  {
   "cell_type": "code",
   "execution_count": 12,
   "id": "06a360cc-214a-4220-84c1-05f2f44847e5",
   "metadata": {},
   "outputs": [
    {
     "name": "stdout",
     "output_type": "stream",
     "text": [
      "Accuracy: 1739/2000 = 0.8695\n"
     ]
    }
   ],
   "source": [
    "count = np.count_nonzero(preds == test_data['labels'].flatten())\n",
    "acc = count/test_data['labels'].size\n",
    "print(f\"Accuracy: {count}/{test_data['labels'].size} = {acc}\")"
   ]
  },
  {
   "cell_type": "code",
   "execution_count": 13,
   "id": "29883c3f-aec7-410c-b3d7-3cbb99c1fad0",
   "metadata": {},
   "outputs": [
    {
     "name": "stdout",
     "output_type": "stream",
     "text": [
      "Accuracy: 1468/2000 = 0.734\n"
     ]
    }
   ],
   "source": [
    "clf_lin = svm.SVC(kernel='linear')\n",
    "clf_lin.fit(train_data['data'], train_data['labels'].flatten())\n",
    "preds_lin = clf_lin.predict(test_data['data'])\n",
    "\n",
    "count = np.count_nonzero(preds_lin == test_data['labels'].flatten())\n",
    "acc = count/test_data['labels'].size\n",
    "print(f\"Accuracy: {count}/{test_data['labels'].size} = {acc}\")"
   ]
  },
  {
   "cell_type": "code",
   "execution_count": 66,
   "id": "dcb7cd1a-e86c-4d2e-b1dc-ebbc29c7f106",
   "metadata": {},
   "outputs": [
    {
     "data": {
      "text/plain": [
       "array([950, 861], dtype=int32)"
      ]
     },
     "execution_count": 66,
     "metadata": {},
     "output_type": "execute_result"
    }
   ],
   "source": [
    "clf.n_support_"
   ]
  },
  {
   "cell_type": "code",
   "execution_count": 70,
   "id": "462a6f86-6aa9-4f86-8317-4d2756fd9e6c",
   "metadata": {},
   "outputs": [
    {
     "data": {
      "text/plain": [
       "1811"
      ]
     },
     "execution_count": 70,
     "metadata": {},
     "output_type": "execute_result"
    }
   ],
   "source": [
    "s1 = set(clf.support_)\n",
    "s2 = set(model.sv_idxs)"
   ]
  },
  {
   "cell_type": "code",
   "execution_count": 71,
   "id": "d0226a22-e3c6-40b2-8ba9-1f1a2c64c4c8",
   "metadata": {},
   "outputs": [
    {
     "data": {
      "text/plain": [
       "array([[-0.00488699, -0.00115852, -0.01225312, ..., -0.0020295 ,\n",
       "        -0.00054079, -0.00621342]])"
      ]
     },
     "execution_count": 71,
     "metadata": {},
     "output_type": "execute_result"
    }
   ],
   "source": [
    "clf_lin.coef_"
   ]
  },
  {
   "cell_type": "code",
   "execution_count": 78,
   "id": "d213982b-4e89-414e-a9c5-f62e4b25aa9e",
   "metadata": {},
   "outputs": [
    {
     "data": {
      "text/plain": [
       "1111.462445371782"
      ]
     },
     "execution_count": 78,
     "metadata": {},
     "output_type": "execute_result"
    }
   ],
   "source": [
    "np.linalg.norm(clf_lin.coef_ - model.w)"
   ]
  },
  {
   "cell_type": "code",
   "execution_count": 79,
   "id": "13f5d0d4-dc1c-4213-ac71-decd4205ad82",
   "metadata": {},
   "outputs": [
    {
     "data": {
      "text/plain": [
       "0.0"
      ]
     },
     "execution_count": 79,
     "metadata": {},
     "output_type": "execute_result"
    }
   ],
   "source": [
    "clf_lin.coef0"
   ]
  },
  {
   "cell_type": "code",
   "execution_count": 80,
   "id": "cddb086d-7a8d-4b68-83c8-55daba53bd6b",
   "metadata": {},
   "outputs": [
    {
     "data": {
      "text/plain": [
       "1.5776317496953958"
      ]
     },
     "execution_count": 80,
     "metadata": {},
     "output_type": "execute_result"
    }
   ],
   "source": [
    "model.b"
   ]
  },
  {
   "cell_type": "code",
   "execution_count": null,
   "id": "233e321e-0bf4-40a9-b13b-ae7f4f3b6ec4",
   "metadata": {},
   "outputs": [],
   "source": []
  }
 ],
 "metadata": {
  "kernelspec": {
   "display_name": "Python 3",
   "language": "python",
   "name": "python3"
  },
  "language_info": {
   "codemirror_mode": {
    "name": "ipython",
    "version": 3
   },
   "file_extension": ".py",
   "mimetype": "text/x-python",
   "name": "python",
   "nbconvert_exporter": "python",
   "pygments_lexer": "ipython3",
   "version": "3.9.0"
  }
 },
 "nbformat": 4,
 "nbformat_minor": 5
}
