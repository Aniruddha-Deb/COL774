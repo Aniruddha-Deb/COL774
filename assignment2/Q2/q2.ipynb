{
 "cells": [
  {
   "cell_type": "code",
   "execution_count": 4,
   "id": "28da2a21-9f84-4adb-a0bf-b1c321ee5ac9",
   "metadata": {},
   "outputs": [],
   "source": [
    "import numpy as np\n",
    "from cvxopt import matrix, solvers\n",
    "import pickle"
   ]
  },
  {
   "cell_type": "code",
   "execution_count": 16,
   "id": "8c9ec81a-f96d-4b08-83d8-312f90ae9981",
   "metadata": {},
   "outputs": [],
   "source": [
    "class SoftSVM_QP:\n",
    "    \n",
    "    def __init__(self, C=1):\n",
    "        self.C = C\n",
    "    \n",
    "    def fit(self, X, y):\n",
    "        m, n = X.shape\n",
    "        P = matrix(((y @ y.T) * (X @ X.T)).astype(np.double)) # half not required\n",
    "        q = matrix(-np.ones((m, 1)))\n",
    "        A = matrix(y.T.astype(np.double))\n",
    "        b = matrix(np.zeros(1))\n",
    "        G = matrix(np.vstack([-np.eye(m), np.eye(m)]))\n",
    "        h = matrix(np.hstack([np.zeros(m), self.C*np.ones(m)]))\n",
    "\n",
    "        self.sol = solvers.qp(P, q, G, h, A, b)\n",
    "        alphas = np.array(solution['x'])\n",
    "        sv_idxs = (alphas > 1e-6).flatten()\n",
    "        self.sv = X[sv_idxs]\n",
    "        self.sv_y = y[sv_idxs]\n",
    "        self.alphas = alphas[sv_idxs]\n",
    "        \n",
    "        self.b = self.sv_y - np.sum((self.sv @ self.sv.T) * self.alphas * self.sv_y, axis=0)\n",
    "        self.b = np.mean(self.b)\n",
    "        \n",
    "    def predict(self, X):\n",
    "        prod = np.sum((self.sv @ X.T) * self.alphas * self.sv_y, axis=0) + self.b\n",
    "        return np.sign(prod)"
   ]
  },
  {
   "cell_type": "markdown",
   "id": "11079207-2e8a-4726-a957-8752f0eaecc3",
   "metadata": {},
   "source": [
    "## Testing"
   ]
  },
  {
   "cell_type": "code",
   "execution_count": 11,
   "id": "92444ad0-8e59-4349-a3b3-da321b6d3fe3",
   "metadata": {},
   "outputs": [],
   "source": [
    "train_data_file = open('../data/part2_data/train_data.pickle', 'rb')\n",
    "train_data = pickle.load(train_data_file)\n",
    "train_data_file.close()\n",
    "\n",
    "s = train_data['data'].shape\n",
    "train_data['data'] = train_data['data'].reshape(s[0], np.product(s[1:]))"
   ]
  },
  {
   "cell_type": "code",
   "execution_count": 13,
   "id": "a66213d1-9815-4e0c-9129-19edf7b9997a",
   "metadata": {},
   "outputs": [
    {
     "data": {
      "text/plain": [
       "array([[202, 204, 199, ..., 240, 238, 243],\n",
       "       [126, 118, 110, ..., 121, 113, 102],\n",
       "       [251, 249, 250, ..., 105, 121,  26],\n",
       "       ...,\n",
       "       [118, 110, 108, ..., 196, 193, 138],\n",
       "       [ 71,  86,  32, ..., 199, 165, 101],\n",
       "       [139, 122,  84, ..., 212, 186, 106]], dtype=uint8)"
      ]
     },
     "execution_count": 13,
     "metadata": {},
     "output_type": "execute_result"
    }
   ],
   "source": [
    "train_data['data']"
   ]
  },
  {
   "cell_type": "code",
   "execution_count": 17,
   "id": "6dcce863-beb7-4af1-adb9-3cc56bad0f22",
   "metadata": {},
   "outputs": [
    {
     "ename": "NameError",
     "evalue": "name 'C' is not defined",
     "output_type": "error",
     "traceback": [
      "\u001b[0;31m----------------------------------------------------------------\u001b[0m",
      "\u001b[0;31mNameError\u001b[0m                      Traceback (most recent call last)",
      "\u001b[0;32m<ipython-input-17-bf12bfea141c>\u001b[0m in \u001b[0;36m<module>\u001b[0;34m\u001b[0m\n\u001b[1;32m      1\u001b[0m \u001b[0mmodel\u001b[0m \u001b[0;34m=\u001b[0m \u001b[0mSoftSVM_QP\u001b[0m\u001b[0;34m(\u001b[0m\u001b[0;34m)\u001b[0m\u001b[0;34m\u001b[0m\u001b[0;34m\u001b[0m\u001b[0m\n\u001b[0;32m----> 2\u001b[0;31m \u001b[0mmodel\u001b[0m\u001b[0;34m.\u001b[0m\u001b[0mfit\u001b[0m\u001b[0;34m(\u001b[0m\u001b[0mtrain_data\u001b[0m\u001b[0;34m[\u001b[0m\u001b[0;34m'data'\u001b[0m\u001b[0;34m]\u001b[0m\u001b[0;34m,\u001b[0m \u001b[0mtrain_data\u001b[0m\u001b[0;34m[\u001b[0m\u001b[0;34m'labels'\u001b[0m\u001b[0;34m]\u001b[0m\u001b[0;34m)\u001b[0m\u001b[0;34m\u001b[0m\u001b[0;34m\u001b[0m\u001b[0m\n\u001b[0m",
      "\u001b[0;32m<ipython-input-16-39990b78b1a0>\u001b[0m in \u001b[0;36mfit\u001b[0;34m(self, X, y)\u001b[0m\n\u001b[1;32m     11\u001b[0m         \u001b[0mb\u001b[0m \u001b[0;34m=\u001b[0m \u001b[0mmatrix\u001b[0m\u001b[0;34m(\u001b[0m\u001b[0mnp\u001b[0m\u001b[0;34m.\u001b[0m\u001b[0mzeros\u001b[0m\u001b[0;34m(\u001b[0m\u001b[0;36m1\u001b[0m\u001b[0;34m)\u001b[0m\u001b[0;34m)\u001b[0m\u001b[0;34m\u001b[0m\u001b[0;34m\u001b[0m\u001b[0m\n\u001b[1;32m     12\u001b[0m         \u001b[0mG\u001b[0m \u001b[0;34m=\u001b[0m \u001b[0mmatrix\u001b[0m\u001b[0;34m(\u001b[0m\u001b[0mnp\u001b[0m\u001b[0;34m.\u001b[0m\u001b[0mvstack\u001b[0m\u001b[0;34m(\u001b[0m\u001b[0;34m[\u001b[0m\u001b[0;34m-\u001b[0m\u001b[0mnp\u001b[0m\u001b[0;34m.\u001b[0m\u001b[0meye\u001b[0m\u001b[0;34m(\u001b[0m\u001b[0mm\u001b[0m\u001b[0;34m)\u001b[0m\u001b[0;34m,\u001b[0m \u001b[0mnp\u001b[0m\u001b[0;34m.\u001b[0m\u001b[0meye\u001b[0m\u001b[0;34m(\u001b[0m\u001b[0mm\u001b[0m\u001b[0;34m)\u001b[0m\u001b[0;34m]\u001b[0m\u001b[0;34m)\u001b[0m\u001b[0;34m)\u001b[0m\u001b[0;34m\u001b[0m\u001b[0;34m\u001b[0m\u001b[0m\n\u001b[0;32m---> 13\u001b[0;31m         \u001b[0mh\u001b[0m \u001b[0;34m=\u001b[0m \u001b[0mmatrix\u001b[0m\u001b[0;34m(\u001b[0m\u001b[0mnp\u001b[0m\u001b[0;34m.\u001b[0m\u001b[0mhstack\u001b[0m\u001b[0;34m(\u001b[0m\u001b[0;34m[\u001b[0m\u001b[0mnp\u001b[0m\u001b[0;34m.\u001b[0m\u001b[0mzeros\u001b[0m\u001b[0;34m(\u001b[0m\u001b[0mm\u001b[0m\u001b[0;34m)\u001b[0m\u001b[0;34m,\u001b[0m \u001b[0mC\u001b[0m\u001b[0;34m*\u001b[0m\u001b[0mnp\u001b[0m\u001b[0;34m.\u001b[0m\u001b[0mones\u001b[0m\u001b[0;34m(\u001b[0m\u001b[0mm\u001b[0m\u001b[0;34m)\u001b[0m\u001b[0;34m]\u001b[0m\u001b[0;34m)\u001b[0m\u001b[0;34m)\u001b[0m\u001b[0;34m\u001b[0m\u001b[0;34m\u001b[0m\u001b[0m\n\u001b[0m\u001b[1;32m     14\u001b[0m \u001b[0;34m\u001b[0m\u001b[0m\n\u001b[1;32m     15\u001b[0m         \u001b[0mself\u001b[0m\u001b[0;34m.\u001b[0m\u001b[0msol\u001b[0m \u001b[0;34m=\u001b[0m \u001b[0msolvers\u001b[0m\u001b[0;34m.\u001b[0m\u001b[0mqp\u001b[0m\u001b[0;34m(\u001b[0m\u001b[0mP\u001b[0m\u001b[0;34m,\u001b[0m \u001b[0mq\u001b[0m\u001b[0;34m,\u001b[0m \u001b[0mG\u001b[0m\u001b[0;34m,\u001b[0m \u001b[0mh\u001b[0m\u001b[0;34m,\u001b[0m \u001b[0mA\u001b[0m\u001b[0;34m,\u001b[0m \u001b[0mb\u001b[0m\u001b[0;34m)\u001b[0m\u001b[0;34m\u001b[0m\u001b[0;34m\u001b[0m\u001b[0m\n",
      "\u001b[0;31mNameError\u001b[0m: name 'C' is not defined"
     ]
    }
   ],
   "source": [
    "model = SoftSVM_QP()\n",
    "model.fit(train_data['data'], train_data['labels'])"
   ]
  },
  {
   "cell_type": "code",
   "execution_count": null,
   "id": "92441212-4d38-4b1d-bafa-0d31fab63bb6",
   "metadata": {},
   "outputs": [],
   "source": [
    "test_data_file = open('../data/part2_data/test_data.pickle', 'rb')\n",
    "test_data = pickle.load(test_data_file)\n",
    "test_data_file.close()\n",
    "\n",
    "s = test_data['data'].shape\n",
    "test_data['data'] = test_data['data'].reshape(s[0], np.product(s[1:]))"
   ]
  },
  {
   "cell_type": "code",
   "execution_count": null,
   "id": "382973d1-851b-4525-a885-dfbe0472f52c",
   "metadata": {},
   "outputs": [],
   "source": [
    "preds = model.predict(test_data['data'])"
   ]
  },
  {
   "cell_type": "code",
   "execution_count": null,
   "id": "5da4b777-8f1b-4896-9bd2-7c9719553b02",
   "metadata": {},
   "outputs": [],
   "source": [
    "# check prediction accuracy"
   ]
  }
 ],
 "metadata": {
  "kernelspec": {
   "display_name": "Python 3",
   "language": "python",
   "name": "python3"
  },
  "language_info": {
   "codemirror_mode": {
    "name": "ipython",
    "version": 3
   },
   "file_extension": ".py",
   "mimetype": "text/x-python",
   "name": "python",
   "nbconvert_exporter": "python",
   "pygments_lexer": "ipython3",
   "version": "3.9.0"
  }
 },
 "nbformat": 4,
 "nbformat_minor": 5
}
