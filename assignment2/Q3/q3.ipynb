{
 "cells": [
  {
   "cell_type": "code",
   "execution_count": 1,
   "id": "0b9fcd71-178d-484c-930f-5451efe57aa5",
   "metadata": {},
   "outputs": [],
   "source": [
    "import numpy as np\n",
    "import time\n",
    "from sklearn import svm\n",
    "import sys\n",
    "from cvxopt import matrix, solvers\n",
    "import pickle"
   ]
  },
  {
   "cell_type": "code",
   "execution_count": 2,
   "id": "cfde5a5c-e8da-4edc-bcb9-bebbe9a00370",
   "metadata": {},
   "outputs": [],
   "source": [
    "def create_gaussian_kernel(gamma=0.001):\n",
    "    def kernel(x, z):\n",
    "        xx = (x**2).sum(axis=1).reshape(-1,1)@np.ones((1,z.shape[0]))\n",
    "        zz = (z**2).sum(axis=1).reshape(-1,1)@np.ones((1,x.shape[0]))\n",
    "        return np.exp(-gamma*(xx + zz.T - 2*x@z.T))\n",
    "    \n",
    "    return kernel\n",
    "\n",
    "def linear_kernel(x, z):\n",
    "    return x@z.T\n",
    "      \n",
    "class SoftKernelSVM_QP:\n",
    "    \n",
    "    def __init__(self, kernel, C=1):\n",
    "        self.C = C\n",
    "        self.kernel = kernel\n",
    "        \n",
    "    def learn(self, X, y, thresh=1e-6):\n",
    "        alphas = np.array(self.sol['x'])\n",
    "        idx = (alphas > thresh).flatten()\n",
    "        self.sv_idxs = idx.nonzero()[0]\n",
    "        print(f\"Got {len(self.sv_idxs)} support vectors\")\n",
    "        self.sv = X[idx]\n",
    "        self.sv_y = y[idx]\n",
    "        self.alphas = alphas[idx]\n",
    "\n",
    "        if (self.kernel == linear_kernel):\n",
    "            self.w = self.sv.T @ (self.alphas * self.sv_y)\n",
    "        \n",
    "        self.b = self.sv_y - np.sum(self.kernel(self.sv,self.sv) * self.alphas * self.sv_y, axis=0)\n",
    "        self.b = np.mean(self.b)\n",
    "    \n",
    "   # X, y need to be numpy arrays\n",
    "    def fit(self, X, y):\n",
    "        m, n = X.shape\n",
    "        p_np = (y @ y.T) * self.kernel(X,X)\n",
    "        P = matrix(p_np, tc='d') # half not required\n",
    "        q = matrix(-np.ones((m, 1)), tc='d')\n",
    "        A = matrix(y.T, tc='d')\n",
    "        b = matrix(np.zeros(1), tc='d')\n",
    "        G = matrix(np.vstack([-np.eye(m), np.eye(m)]), tc='d')\n",
    "        h = matrix(np.hstack([np.zeros(m), self.C*np.ones(m)]).reshape(-1,1), tc='d')\n",
    "        \n",
    "        self.sol = solvers.qp(P, q, G, h, A, b)\n",
    "\n",
    "    def predict(self, X):\n",
    "        prod = np.sum(self.kernel(self.sv,X) * self.alphas * self.sv_y, axis=0) + self.b\n",
    "        return prod"
   ]
  },
  {
   "cell_type": "code",
   "execution_count": 10,
   "id": "d7da06bf-a4c2-4a03-8113-20166d94dba6",
   "metadata": {},
   "outputs": [],
   "source": [
    "def eq_block(x, y):\n",
    "    i = 0\n",
    "    while i < len(x)-1 and y[i] == y[i+1]:\n",
    "        i += 1\n",
    "    return i\n",
    "\n",
    "class MultiClassSoftKernelSVM_QP:\n",
    "    \n",
    "    def __init__(self, kernel, C=1.0):\n",
    "        self.kernel = kernel\n",
    "        self.C = C\n",
    "        self.svms = {}\n",
    "        \n",
    "    def extract_binary_problem(X, y, i, j):\n",
    "        idx = ((y == i) | (y == j)).flatten()\n",
    "        X = X[idx,:]\n",
    "        y = y[idx]\n",
    "        y = np.where(y == j, 1, -1)      \n",
    "        return (X,y)\n",
    "        \n",
    "    def fit(self, X, y):\n",
    "        # get the number of distinct classes first\n",
    "        self.classes = np.unique(y)\n",
    "        self.n_classes = len(self.classes)\n",
    "        # now make a list of tuples, defining the models. (a,b) => -1->a, 1->b\n",
    "        for i in range(len(self.classes)):\n",
    "            for j in range(i+1,len(self.classes)):\n",
    "                svm = SoftKernelSVM_QP(self.kernel, C=self.C)\n",
    "                # transform y and x to make\n",
    "                Xp, yp = MultiClassSoftKernelSVM_QP.extract_binary_problem(X, y, self.classes[i], self.classes[j])\n",
    "                svm.fit(Xp, yp)\n",
    "                svm.learn(Xp, yp)\n",
    "                self.svms[(i,j)] = svm\n",
    "    \n",
    "    def predict(self, X):\n",
    "        m, n = X.shape\n",
    "        counts = np.zeros((m,self.n_classes))\n",
    "        scores = np.zeros((m,self.n_classes))\n",
    "        for (i,j) in self.svms:\n",
    "            score = self.svms[(i,j)].predict(X)\n",
    "            pred = np.sign(score)\n",
    "            pred = (pred+1)>>1 # convert to (0,1) predictions\n",
    "            counts[:,i] += (1-pred)\n",
    "            counts[:,j] += pred\n",
    "            scores[:,i] -= (1-pred)*score\n",
    "            scores[:,j] += pred*score\n",
    "        \n",
    "        predictions = np.zeros(m)\n",
    "        counts_args = np.argsort(counts, axis=1)\n",
    "        break_args = np.zeros(m)\n",
    "        for i in range(m):\n",
    "            eqlen = eq_block(counts_args[i],counts[i])\n",
    "            if eqlen != 0:\n",
    "                a = counts_args[i]\n",
    "                max_j = 0\n",
    "                for j in range(1,eqlen+1):\n",
    "                    if scores[i][a[j]] > scores[i][a[max_j]]:\n",
    "                        max_j = j\n",
    "                predictions[i] = self.classes[a[max_j]]\n",
    "            else:\n",
    "                predictions[i] = self.classes[counts_args[i][0]]\n",
    "        \n",
    "        return predictions"
   ]
  },
  {
   "cell_type": "code",
   "execution_count": 11,
   "id": "2a5a292d-925e-47fc-b280-d7d705c4045e",
   "metadata": {},
   "outputs": [],
   "source": [
    "def load_data(dir, type):\n",
    "    data_file = open(f'{dir}/{type}.pickle', 'rb')\n",
    "    data = pickle.load(data_file)\n",
    "    data_file.close()\n",
    "\n",
    "    s = data['data'].shape\n",
    "    data['data'] = data['data'].reshape(s[0], np.product(s[1:]))\n",
    "\n",
    "    data['data'] = data['data'].astype(np.double)\n",
    "    data['labels'] = data['labels'].astype(np.double)\n",
    "\n",
    "    data['data'] = np.interp(data['data'], (0,255), (0,1))\n",
    "    \n",
    "    return data"
   ]
  },
  {
   "cell_type": "markdown",
   "id": "b2e93ada-8966-48ba-b0e2-349dec3707f0",
   "metadata": {},
   "source": [
    "## Testing"
   ]
  },
  {
   "cell_type": "code",
   "execution_count": 7,
   "id": "81b47f97-b145-4f94-ac09-9fbe1d0bc6ef",
   "metadata": {},
   "outputs": [],
   "source": [
    "dpath = '../data/part2_data'\n",
    "train_data = load_data(dpath, 'train_data')\n",
    "test_data = load_data(dpath, 'test_data')"
   ]
  },
  {
   "cell_type": "code",
   "execution_count": 12,
   "id": "2ea63e9f-c11b-40b0-8f6f-3436f2f674b8",
   "metadata": {},
   "outputs": [
    {
     "name": "stdout",
     "output_type": "stream",
     "text": [
      "     pcost       dcost       gap    pres   dres\n",
      " 0: -1.7375e+03 -9.9396e+03  5e+04  3e+00  8e-13\n",
      " 1: -1.2403e+03 -6.7355e+03  8e+03  2e-01  9e-13\n",
      " 2: -1.2970e+03 -2.2257e+03  1e+03  2e-02  8e-13\n",
      " 3: -1.4964e+03 -1.8419e+03  4e+02  7e-03  8e-13\n",
      " 4: -1.5732e+03 -1.7274e+03  2e+02  2e-03  8e-13\n",
      " 5: -1.6089e+03 -1.6741e+03  7e+01  6e-04  9e-13\n",
      " 6: -1.6279e+03 -1.6465e+03  2e+01  1e-04  9e-13\n",
      " 7: -1.6345e+03 -1.6374e+03  3e+00  1e-05  1e-12\n",
      " 8: -1.6357e+03 -1.6359e+03  2e-01  8e-07  1e-12\n",
      " 9: -1.6358e+03 -1.6358e+03  6e-03  2e-08  1e-12\n",
      "10: -1.6358e+03 -1.6358e+03  2e-04  4e-10  1e-12\n",
      "Optimal solution found.\n",
      "Got 2002 support vectors\n",
      "     pcost       dcost       gap    pres   dres\n",
      " 0: -2.1327e+03 -1.2308e+04  7e+04  3e+00  9e-13\n",
      " 1: -1.4701e+03 -8.9057e+03  1e+04  3e-01  1e-12\n",
      " 2: -1.5068e+03 -2.6512e+03  1e+03  2e-02  1e-12\n",
      " 3: -1.7461e+03 -2.2149e+03  5e+02  6e-03  9e-13\n",
      " 4: -1.8559e+03 -2.0435e+03  2e+02  2e-03  1e-12\n",
      " 5: -1.8986e+03 -1.9835e+03  9e+01  7e-04  1e-12\n",
      " 6: -1.9209e+03 -1.9531e+03  3e+01  2e-04  1e-12\n",
      " 7: -1.9312e+03 -1.9393e+03  8e+00  4e-05  1e-12\n",
      " 8: -1.9345e+03 -1.9351e+03  6e-01  2e-06  1e-12\n",
      " 9: -1.9348e+03 -1.9348e+03  5e-02  2e-07  1e-12\n",
      "10: -1.9348e+03 -1.9348e+03  1e-03  4e-09  1e-12\n",
      "Optimal solution found.\n",
      "Got 2483 support vectors\n",
      "     pcost       dcost       gap    pres   dres\n",
      " 0: -1.7452e+03 -1.1116e+04  6e+04  3e+00  8e-13\n",
      " 1: -1.2222e+03 -7.9034e+03  1e+04  4e-01  8e-13\n",
      " 2: -1.1713e+03 -2.2879e+03  1e+03  3e-03  7e-13\n"
     ]
    },
    {
     "ename": "KeyboardInterrupt",
     "evalue": "",
     "output_type": "error",
     "traceback": [
      "\u001b[0;31m---------------------------------------------------------------------------\u001b[0m",
      "\u001b[0;31mKeyboardInterrupt\u001b[0m                         Traceback (most recent call last)",
      "\u001b[0;32m<ipython-input-12-c28f920040d4>\u001b[0m in \u001b[0;36m<module>\u001b[0;34m\u001b[0m\n\u001b[1;32m      1\u001b[0m \u001b[0mmodel\u001b[0m \u001b[0;34m=\u001b[0m \u001b[0mMultiClassSoftKernelSVM_QP\u001b[0m\u001b[0;34m(\u001b[0m\u001b[0mcreate_gaussian_kernel\u001b[0m\u001b[0;34m(\u001b[0m\u001b[0;34m)\u001b[0m\u001b[0;34m)\u001b[0m\u001b[0;34m\u001b[0m\u001b[0;34m\u001b[0m\u001b[0m\n\u001b[0;32m----> 2\u001b[0;31m \u001b[0mmodel\u001b[0m\u001b[0;34m.\u001b[0m\u001b[0mfit\u001b[0m\u001b[0;34m(\u001b[0m\u001b[0mtrain_data\u001b[0m\u001b[0;34m[\u001b[0m\u001b[0;34m'data'\u001b[0m\u001b[0;34m]\u001b[0m\u001b[0;34m,\u001b[0m \u001b[0mtrain_data\u001b[0m\u001b[0;34m[\u001b[0m\u001b[0;34m'labels'\u001b[0m\u001b[0;34m]\u001b[0m\u001b[0;34m)\u001b[0m\u001b[0;34m\u001b[0m\u001b[0;34m\u001b[0m\u001b[0m\n\u001b[0m",
      "\u001b[0;32m<ipython-input-10-64336e24e853>\u001b[0m in \u001b[0;36mfit\u001b[0;34m(self, X, y)\u001b[0m\n\u001b[1;32m     29\u001b[0m                 \u001b[0;31m# transform y and x to make\u001b[0m\u001b[0;34m\u001b[0m\u001b[0;34m\u001b[0m\u001b[0;34m\u001b[0m\u001b[0m\n\u001b[1;32m     30\u001b[0m                 \u001b[0mXp\u001b[0m\u001b[0;34m,\u001b[0m \u001b[0myp\u001b[0m \u001b[0;34m=\u001b[0m \u001b[0mMultiClassSoftKernelSVM_QP\u001b[0m\u001b[0;34m.\u001b[0m\u001b[0mextract_binary_problem\u001b[0m\u001b[0;34m(\u001b[0m\u001b[0mX\u001b[0m\u001b[0;34m,\u001b[0m \u001b[0my\u001b[0m\u001b[0;34m,\u001b[0m \u001b[0mself\u001b[0m\u001b[0;34m.\u001b[0m\u001b[0mclasses\u001b[0m\u001b[0;34m[\u001b[0m\u001b[0mi\u001b[0m\u001b[0;34m]\u001b[0m\u001b[0;34m,\u001b[0m \u001b[0mself\u001b[0m\u001b[0;34m.\u001b[0m\u001b[0mclasses\u001b[0m\u001b[0;34m[\u001b[0m\u001b[0mj\u001b[0m\u001b[0;34m]\u001b[0m\u001b[0;34m)\u001b[0m\u001b[0;34m\u001b[0m\u001b[0;34m\u001b[0m\u001b[0m\n\u001b[0;32m---> 31\u001b[0;31m                 \u001b[0msvm\u001b[0m\u001b[0;34m.\u001b[0m\u001b[0mfit\u001b[0m\u001b[0;34m(\u001b[0m\u001b[0mXp\u001b[0m\u001b[0;34m,\u001b[0m \u001b[0myp\u001b[0m\u001b[0;34m)\u001b[0m\u001b[0;34m\u001b[0m\u001b[0;34m\u001b[0m\u001b[0m\n\u001b[0m\u001b[1;32m     32\u001b[0m                 \u001b[0msvm\u001b[0m\u001b[0;34m.\u001b[0m\u001b[0mlearn\u001b[0m\u001b[0;34m(\u001b[0m\u001b[0mXp\u001b[0m\u001b[0;34m,\u001b[0m \u001b[0myp\u001b[0m\u001b[0;34m)\u001b[0m\u001b[0;34m\u001b[0m\u001b[0;34m\u001b[0m\u001b[0m\n\u001b[1;32m     33\u001b[0m                 \u001b[0mself\u001b[0m\u001b[0;34m.\u001b[0m\u001b[0msvms\u001b[0m\u001b[0;34m[\u001b[0m\u001b[0;34m(\u001b[0m\u001b[0mi\u001b[0m\u001b[0;34m,\u001b[0m\u001b[0mj\u001b[0m\u001b[0;34m)\u001b[0m\u001b[0;34m]\u001b[0m \u001b[0;34m=\u001b[0m \u001b[0msvm\u001b[0m\u001b[0;34m\u001b[0m\u001b[0;34m\u001b[0m\u001b[0m\n",
      "\u001b[0;32m<ipython-input-2-2625ad5cbbe5>\u001b[0m in \u001b[0;36mfit\u001b[0;34m(self, X, y)\u001b[0m\n\u001b[1;32m     42\u001b[0m         \u001b[0mh\u001b[0m \u001b[0;34m=\u001b[0m \u001b[0mmatrix\u001b[0m\u001b[0;34m(\u001b[0m\u001b[0mnp\u001b[0m\u001b[0;34m.\u001b[0m\u001b[0mhstack\u001b[0m\u001b[0;34m(\u001b[0m\u001b[0;34m[\u001b[0m\u001b[0mnp\u001b[0m\u001b[0;34m.\u001b[0m\u001b[0mzeros\u001b[0m\u001b[0;34m(\u001b[0m\u001b[0mm\u001b[0m\u001b[0;34m)\u001b[0m\u001b[0;34m,\u001b[0m \u001b[0mself\u001b[0m\u001b[0;34m.\u001b[0m\u001b[0mC\u001b[0m\u001b[0;34m*\u001b[0m\u001b[0mnp\u001b[0m\u001b[0;34m.\u001b[0m\u001b[0mones\u001b[0m\u001b[0;34m(\u001b[0m\u001b[0mm\u001b[0m\u001b[0;34m)\u001b[0m\u001b[0;34m]\u001b[0m\u001b[0;34m)\u001b[0m\u001b[0;34m.\u001b[0m\u001b[0mreshape\u001b[0m\u001b[0;34m(\u001b[0m\u001b[0;34m-\u001b[0m\u001b[0;36m1\u001b[0m\u001b[0;34m,\u001b[0m\u001b[0;36m1\u001b[0m\u001b[0;34m)\u001b[0m\u001b[0;34m,\u001b[0m \u001b[0mtc\u001b[0m\u001b[0;34m=\u001b[0m\u001b[0;34m'd'\u001b[0m\u001b[0;34m)\u001b[0m\u001b[0;34m\u001b[0m\u001b[0;34m\u001b[0m\u001b[0m\n\u001b[1;32m     43\u001b[0m \u001b[0;34m\u001b[0m\u001b[0m\n\u001b[0;32m---> 44\u001b[0;31m         \u001b[0mself\u001b[0m\u001b[0;34m.\u001b[0m\u001b[0msol\u001b[0m \u001b[0;34m=\u001b[0m \u001b[0msolvers\u001b[0m\u001b[0;34m.\u001b[0m\u001b[0mqp\u001b[0m\u001b[0;34m(\u001b[0m\u001b[0mP\u001b[0m\u001b[0;34m,\u001b[0m \u001b[0mq\u001b[0m\u001b[0;34m,\u001b[0m \u001b[0mG\u001b[0m\u001b[0;34m,\u001b[0m \u001b[0mh\u001b[0m\u001b[0;34m,\u001b[0m \u001b[0mA\u001b[0m\u001b[0;34m,\u001b[0m \u001b[0mb\u001b[0m\u001b[0;34m)\u001b[0m\u001b[0;34m\u001b[0m\u001b[0;34m\u001b[0m\u001b[0m\n\u001b[0m\u001b[1;32m     45\u001b[0m \u001b[0;34m\u001b[0m\u001b[0m\n\u001b[1;32m     46\u001b[0m     \u001b[0;32mdef\u001b[0m \u001b[0mpredict\u001b[0m\u001b[0;34m(\u001b[0m\u001b[0mself\u001b[0m\u001b[0;34m,\u001b[0m \u001b[0mX\u001b[0m\u001b[0;34m)\u001b[0m\u001b[0;34m:\u001b[0m\u001b[0;34m\u001b[0m\u001b[0;34m\u001b[0m\u001b[0m\n",
      "\u001b[0;32m~/.pyenv/versions/3.9.0/lib/python3.9/site-packages/cvxopt/coneprog.py\u001b[0m in \u001b[0;36mqp\u001b[0;34m(P, q, G, h, A, b, solver, kktsolver, initvals, **kwargs)\u001b[0m\n\u001b[1;32m   4483\u001b[0m             'residual as dual infeasibility certificate': dinfres}\n\u001b[1;32m   4484\u001b[0m \u001b[0;34m\u001b[0m\u001b[0m\n\u001b[0;32m-> 4485\u001b[0;31m     \u001b[0;32mreturn\u001b[0m \u001b[0mconeqp\u001b[0m\u001b[0;34m(\u001b[0m\u001b[0mP\u001b[0m\u001b[0;34m,\u001b[0m \u001b[0mq\u001b[0m\u001b[0;34m,\u001b[0m \u001b[0mG\u001b[0m\u001b[0;34m,\u001b[0m \u001b[0mh\u001b[0m\u001b[0;34m,\u001b[0m \u001b[0;32mNone\u001b[0m\u001b[0;34m,\u001b[0m \u001b[0mA\u001b[0m\u001b[0;34m,\u001b[0m  \u001b[0mb\u001b[0m\u001b[0;34m,\u001b[0m \u001b[0minitvals\u001b[0m\u001b[0;34m,\u001b[0m \u001b[0mkktsolver\u001b[0m \u001b[0;34m=\u001b[0m \u001b[0mkktsolver\u001b[0m\u001b[0;34m,\u001b[0m \u001b[0moptions\u001b[0m \u001b[0;34m=\u001b[0m \u001b[0moptions\u001b[0m\u001b[0;34m)\u001b[0m\u001b[0;34m\u001b[0m\u001b[0;34m\u001b[0m\u001b[0m\n\u001b[0m",
      "\u001b[0;32m~/.pyenv/versions/3.9.0/lib/python3.9/site-packages/cvxopt/coneprog.py\u001b[0m in \u001b[0;36mconeqp\u001b[0;34m(P, q, G, h, dims, A, b, initvals, kktsolver, xnewcopy, xdot, xaxpy, xscal, ynewcopy, ydot, yaxpy, yscal, **kwargs)\u001b[0m\n\u001b[1;32m   2254\u001b[0m         \u001b[0;31m# On exit, they contain ux, uy, uz.\u001b[0m\u001b[0;34m\u001b[0m\u001b[0;34m\u001b[0m\u001b[0;34m\u001b[0m\u001b[0m\n\u001b[1;32m   2255\u001b[0m \u001b[0;34m\u001b[0m\u001b[0m\n\u001b[0;32m-> 2256\u001b[0;31m         \u001b[0;32mtry\u001b[0m\u001b[0;34m:\u001b[0m \u001b[0mf3\u001b[0m \u001b[0;34m=\u001b[0m \u001b[0mkktsolver\u001b[0m\u001b[0;34m(\u001b[0m\u001b[0mW\u001b[0m\u001b[0;34m)\u001b[0m\u001b[0;34m\u001b[0m\u001b[0;34m\u001b[0m\u001b[0m\n\u001b[0m\u001b[1;32m   2257\u001b[0m         \u001b[0;32mexcept\u001b[0m \u001b[0mArithmeticError\u001b[0m\u001b[0;34m:\u001b[0m\u001b[0;34m\u001b[0m\u001b[0;34m\u001b[0m\u001b[0m\n\u001b[1;32m   2258\u001b[0m             \u001b[0;32mif\u001b[0m \u001b[0miters\u001b[0m \u001b[0;34m==\u001b[0m \u001b[0;36m0\u001b[0m\u001b[0;34m:\u001b[0m\u001b[0;34m\u001b[0m\u001b[0;34m\u001b[0m\u001b[0m\n",
      "\u001b[0;32m~/.pyenv/versions/3.9.0/lib/python3.9/site-packages/cvxopt/coneprog.py\u001b[0m in \u001b[0;36mkktsolver\u001b[0;34m(W)\u001b[0m\n\u001b[1;32m   1979\u001b[0m              \u001b[0mfactor\u001b[0m \u001b[0;34m=\u001b[0m \u001b[0mmisc\u001b[0m\u001b[0;34m.\u001b[0m\u001b[0mkkt_chol2\u001b[0m\u001b[0;34m(\u001b[0m\u001b[0mG\u001b[0m\u001b[0;34m,\u001b[0m \u001b[0mdims\u001b[0m\u001b[0;34m,\u001b[0m \u001b[0mA\u001b[0m\u001b[0;34m)\u001b[0m\u001b[0;34m\u001b[0m\u001b[0;34m\u001b[0m\u001b[0m\n\u001b[1;32m   1980\u001b[0m          \u001b[0;32mdef\u001b[0m \u001b[0mkktsolver\u001b[0m\u001b[0;34m(\u001b[0m\u001b[0mW\u001b[0m\u001b[0;34m)\u001b[0m\u001b[0;34m:\u001b[0m\u001b[0;34m\u001b[0m\u001b[0;34m\u001b[0m\u001b[0m\n\u001b[0;32m-> 1981\u001b[0;31m              \u001b[0;32mreturn\u001b[0m \u001b[0mfactor\u001b[0m\u001b[0;34m(\u001b[0m\u001b[0mW\u001b[0m\u001b[0;34m,\u001b[0m \u001b[0mP\u001b[0m\u001b[0;34m)\u001b[0m\u001b[0;34m\u001b[0m\u001b[0;34m\u001b[0m\u001b[0m\n\u001b[0m\u001b[1;32m   1982\u001b[0m \u001b[0;34m\u001b[0m\u001b[0m\n\u001b[1;32m   1983\u001b[0m     \u001b[0;32mif\u001b[0m \u001b[0mxnewcopy\u001b[0m \u001b[0;32mis\u001b[0m \u001b[0;32mNone\u001b[0m\u001b[0;34m:\u001b[0m \u001b[0mxnewcopy\u001b[0m \u001b[0;34m=\u001b[0m \u001b[0mmatrix\u001b[0m\u001b[0;34m\u001b[0m\u001b[0;34m\u001b[0m\u001b[0m\n",
      "\u001b[0;32m~/.pyenv/versions/3.9.0/lib/python3.9/site-packages/cvxopt/misc.py\u001b[0m in \u001b[0;36mfactor\u001b[0;34m(W, H, Df)\u001b[0m\n\u001b[1;32m   1449\u001b[0m \u001b[0;34m\u001b[0m\u001b[0m\n\u001b[1;32m   1450\u001b[0m         \u001b[0;32melse\u001b[0m\u001b[0;34m:\u001b[0m\u001b[0;34m\u001b[0m\u001b[0;34m\u001b[0m\u001b[0m\n\u001b[0;32m-> 1451\u001b[0;31m             \u001b[0mbase\u001b[0m\u001b[0;34m.\u001b[0m\u001b[0msyrk\u001b[0m\u001b[0;34m(\u001b[0m\u001b[0mF\u001b[0m\u001b[0;34m[\u001b[0m\u001b[0;34m'Gs'\u001b[0m\u001b[0;34m]\u001b[0m\u001b[0;34m,\u001b[0m \u001b[0mF\u001b[0m\u001b[0;34m[\u001b[0m\u001b[0;34m'S'\u001b[0m\u001b[0;34m]\u001b[0m\u001b[0;34m,\u001b[0m \u001b[0mtrans\u001b[0m \u001b[0;34m=\u001b[0m \u001b[0;34m'T'\u001b[0m\u001b[0;34m,\u001b[0m \u001b[0mpartial\u001b[0m \u001b[0;34m=\u001b[0m \u001b[0;32mTrue\u001b[0m\u001b[0;34m)\u001b[0m\u001b[0;34m\u001b[0m\u001b[0;34m\u001b[0m\u001b[0m\n\u001b[0m\u001b[1;32m   1452\u001b[0m             if mnl: base.syrk(F['Dfs'], F['S'], trans = 'T', beta = 1.0, \n\u001b[1;32m   1453\u001b[0m                 partial = True)\n",
      "\u001b[0;31mKeyboardInterrupt\u001b[0m: "
     ]
    }
   ],
   "source": [
    "model = MultiClassSoftKernelSVM_QP(create_gaussian_kernel())\n",
    "model.fit(train_data['data'], train_data['labels'])"
   ]
  },
  {
   "cell_type": "code",
   "execution_count": 16,
   "id": "655e66b2-9dca-4bfa-aba7-982ac1a66926",
   "metadata": {},
   "outputs": [],
   "source": [
    "import pickle\n",
    "preds = pickle.load(open('Qc/preds.pkl', 'rb'))\n",
    "preds_sk = pickle.load(open('Qc/preds_sk.pkl', 'rb'))\n",
    "preds_true = test_data['labels'].flatten()"
   ]
  },
  {
   "cell_type": "code",
   "execution_count": 19,
   "id": "10453646-31c5-4d17-aa26-3683230ce316",
   "metadata": {},
   "outputs": [],
   "source": [
    "from PIL import Image\n",
    "def save_mismatches(preds, dataset, prefix):\n",
    "    trues = dataset['labels'].flatten()\n",
    "    idxs = np.where(preds != trues)[0]\n",
    "    random_idxs = np.random.choice(idxs, size=10, replace=False)\n",
    "    vecs = [(255*dataset['data'][i]).reshape(32,32,3).astype(np.uint8) for i in random_idxs]\n",
    "    for (i,vec) in enumerate(vecs):\n",
    "        img = Image.fromarray(vec)\n",
    "        img = img.resize((320,320), resample=Image.NEAREST)\n",
    "        img.save(f\"Qc/mc_{prefix}_{int(preds[random_idxs[i]])}{int(trues[random_idxs[i]])}_{i+1}.png\")"
   ]
  },
  {
   "cell_type": "code",
   "execution_count": 20,
   "id": "9f0707fd-9832-4fcb-88d6-aa772e3ceb66",
   "metadata": {},
   "outputs": [],
   "source": [
    "save_mismatches(preds, test_data, 'qp')"
   ]
  },
  {
   "cell_type": "code",
   "execution_count": 21,
   "id": "3abfee8e-16f2-4d15-89ee-d007862a3c22",
   "metadata": {},
   "outputs": [],
   "source": [
    "save_mismatches(preds_sk, test_data, 'sk')"
   ]
  },
  {
   "cell_type": "code",
   "execution_count": 26,
   "id": "78624beb-c18a-4ad2-a4f9-5fbf1ed8df12",
   "metadata": {},
   "outputs": [],
   "source": [
    "import os\n",
    "l = os.listdir('Qc')\n",
    "l.sort()"
   ]
  },
  {
   "cell_type": "code",
   "execution_count": 27,
   "id": "41612fca-bb9e-4e3c-8a7c-75f7f691b4b2",
   "metadata": {},
   "outputs": [
    {
     "data": {
      "text/plain": [
       "['mc_qp_01_4.png',\n",
       " 'mc_qp_01_9.png',\n",
       " 'mc_qp_02_7.png',\n",
       " 'mc_qp_04_6.png',\n",
       " 'mc_qp_21_3.png',\n",
       " 'mc_qp_24_2.png',\n",
       " 'mc_qp_31_10.png',\n",
       " 'mc_qp_34_8.png',\n",
       " 'mc_qp_42_5.png',\n",
       " 'mc_qp_43_1.png',\n",
       " 'mc_sk_01_10.png',\n",
       " 'mc_sk_02_8.png',\n",
       " 'mc_sk_13_4.png',\n",
       " 'mc_sk_23_7.png',\n",
       " 'mc_sk_24_2.png',\n",
       " 'mc_sk_24_5.png',\n",
       " 'mc_sk_31_1.png',\n",
       " 'mc_sk_31_3.png',\n",
       " 'mc_sk_34_9.png',\n",
       " 'mc_sk_42_6.png',\n",
       " 'preds.pkl',\n",
       " 'preds_sk.pkl',\n",
       " 'qp_cmat.pdf',\n",
       " 'sk_cmat.pdf']"
      ]
     },
     "execution_count": 27,
     "metadata": {},
     "output_type": "execute_result"
    }
   ],
   "source": [
    "l"
   ]
  },
  {
   "cell_type": "code",
   "execution_count": 40,
   "id": "82c43f93-1dd7-4e89-a74e-b6338e6efbbe",
   "metadata": {},
   "outputs": [
    {
     "data": {
      "image/png": "[encoded data removed]",
      "text/plain": [
       "<Figure size 432x288 with 1 Axes>"
      ]
     },
     "metadata": {
      "needs_background": "light"
     },
     "output_type": "display_data"
    }
   ],
   "source": [
    "import matplotlib.pyplot as plt\n",
    "times = np.array([[0.39,   0.37,   0.3615, 0.3905, 0.3665],\n",
    "                  [0.39,   0.37,   0.3615, 0.3905, 0.3665],\n",
    "                  [0.5925, 0.586,  0.5635, 0.582,  0.576 ],\n",
    "                  [0.6175, 0.6195, 0.6015, 0.599,  0.602 ],\n",
    "                  [0.6205, 0.6195, 0.594,  0.6055, 0.607 ]])\n",
    "means = times.mean(axis=1)\n",
    "stdevs = times.std(axis=1)\n",
    "test_accs = np.array([0.3772, 0.3772, 0.593, 0.6182, 0.626])\n",
    "c = [1e-5,1e-3,1,5,10]\n",
    "\n",
    "plt.plot(c, test_accs, label='test')\n",
    "plt.errorbar(c, means, yerr=stdevs, capsize=3, label='CV')\n",
    "plt.xscale('log')\n",
    "plt.xlabel('C')\n",
    "plt.ylabel('Accuracy')\n",
    "plt.title('Accuracy v/s C')\n",
    "plt.legend()\n",
    "plt.savefig('Qd/acc.pdf', bbox_inches='tight')\n",
    "plt.show()"
   ]
  },
  {
   "cell_type": "code",
   "execution_count": null,
   "id": "088f65bf-097d-4ac6-acdc-504fbcb2ab35",
   "metadata": {},
   "outputs": [],
   "source": []
  }
 ],
 "metadata": {
  "kernelspec": {
   "display_name": "Python 3",
   "language": "python",
   "name": "python3"
  },
  "language_info": {
   "codemirror_mode": {
    "name": "ipython",
    "version": 3
   },
   "file_extension": ".py",
   "mimetype": "text/x-python",
   "name": "python",
   "nbconvert_exporter": "python",
   "pygments_lexer": "ipython3",
   "version": "3.9.0"
  }
 },
 "nbformat": 4,
 "nbformat_minor": 5
}
