{
 "cells": [
  {
   "cell_type": "code",
   "execution_count": 1,
   "id": "231b3a71-1d4e-4c63-91fc-cf5873319f69",
   "metadata": {},
   "outputs": [
    {
     "name": "stderr",
     "output_type": "stream",
     "text": [
      "/Users/Sensei/.pyenv/versions/3.9.0/lib/python3.9/site-packages/pandas/compat/__init__.py:97: UserWarning: Could not import the lzma module. Your installed Python is incomplete. Attempting to use lzma compression will result in a RuntimeError.\n",
      "  warnings.warn(msg)\n"
     ]
    }
   ],
   "source": [
    "import numpy as np\n",
    "import pandas as pd\n",
    "import matplotlib.pyplot as plt"
   ]
  },
  {
   "cell_type": "markdown",
   "id": "7f562112-0b47-4938-838f-1cf705592eec",
   "metadata": {},
   "source": [
    "## Testing"
   ]
  },
  {
   "cell_type": "code",
   "execution_count": 13,
   "id": "e126f240-00c1-4190-95fc-cdb4707c5987",
   "metadata": {},
   "outputs": [
    {
     "name": "stdout",
     "output_type": "stream",
     "text": [
      "<class 'pandas.core.frame.DataFrame'>\n",
      "RangeIndex: 537 entries, 0 to 536\n",
      "Data columns (total 6 columns):\n",
      " #   Column              Non-Null Count  Dtype \n",
      "---  ------              --------------  ----- \n",
      " 0   BI-RADS assessment  537 non-null    object\n",
      " 1   Age                 537 non-null    object\n",
      " 2   Shape               537 non-null    object\n",
      " 3   Margin              537 non-null    object\n",
      " 4   Density             537 non-null    object\n",
      " 5   Severity            537 non-null    int64 \n",
      "dtypes: int64(1), object(5)\n",
      "memory usage: 25.3+ KB\n"
     ]
    },
    {
     "data": {
      "text/plain": [
       "array(['46', '64', '71', '42', '63', '40', '54', '66', '51', '52', '60',\n",
       "       '23', '75', '76', '45', '57', '34', '68', '55', '32', '59', '37',\n",
       "       '70', '65', '61', '82', '43', '49', '58', '86', '21', '56', '80',\n",
       "       '31', '77', '73', '53', '74', '87', '30', '35', '44', '67', '62',\n",
       "       '81', '28', '?', '36', '22', '38', '69', '85', '33', '39', '48',\n",
       "       '83', '50', '41', '24', '27', '72', '84', '25', '79', '78', '19',\n",
       "       '93', '47', '96', '20', '88', '26'], dtype=object)"
      ]
     },
     "execution_count": 13,
     "metadata": {},
     "output_type": "execute_result"
    }
   ],
   "source": [
    "dpath = \"data/part1_data\"\n",
    "train_data = pd.read_csv(f\"{dpath}/train.csv\")\n",
    "train_data.info()\n",
    "train_data['Age'].unique()\n",
    "\n",
    "# TODO impute missing values."
   ]
  },
  {
   "cell_type": "code",
   "execution_count": null,
   "id": "b196feba-d5ca-4c23-8b97-19d1f534a98c",
   "metadata": {},
   "outputs": [],
   "source": []
  }
 ],
 "metadata": {
  "kernelspec": {
   "display_name": "Python 3",
   "language": "python",
   "name": "python3"
  },
  "language_info": {
   "codemirror_mode": {
    "name": "ipython",
    "version": 3
   },
   "file_extension": ".py",
   "mimetype": "text/x-python",
   "name": "python",
   "nbconvert_exporter": "python",
   "pygments_lexer": "ipython3",
   "version": "3.9.0"
  }
 },
 "nbformat": 4,
 "nbformat_minor": 5
}
